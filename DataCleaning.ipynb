{
  "nbformat": 4,
  "nbformat_minor": 0,
  "metadata": {
    "colab": {
      "name": "DataCleaning.ipynb",
      "provenance": [],
      "toc_visible": true
    },
    "kernelspec": {
      "name": "python3",
      "display_name": "Python 3"
    },
    "language_info": {
      "name": "python"
    }
  },
  "cells": [
    {
      "cell_type": "markdown",
      "metadata": {
        "id": "FRScF-dJ4Wei"
      },
      "source": [
        "## The purpose of this notebook is just to clean the data for further analysis"
      ]
    },
    {
      "cell_type": "markdown",
      "metadata": {
        "id": "txkTfDRz4JDZ"
      },
      "source": [
        "### Importing Libraries"
      ]
    },
    {
      "cell_type": "code",
      "metadata": {
        "id": "WIgRda8b4h8h"
      },
      "source": [
        "## Importing the required libraries\n",
        "import pandas as pd \n",
        "import numpy as np\n",
        "import re\n",
        "import matplotlib.pyplot as plt\n",
        "%matplotlib inline"
      ],
      "execution_count": 1,
      "outputs": []
    },
    {
      "cell_type": "markdown",
      "metadata": {
        "id": "cmoEElBx4w83"
      },
      "source": [
        "### Data Gathering"
      ]
    },
    {
      "cell_type": "code",
      "metadata": {
        "colab": {
          "base_uri": "https://localhost:8080/",
          "height": 568
        },
        "id": "RLjj-hmA3qDw",
        "outputId": "bf6b874d-0585-4642-9be9-5ea945a4a96b"
      },
      "source": [
        "## Loading the data into Pandas dataframes\n",
        "\n",
        "# application data\n",
        "applications = pd.read_csv(\"/content/source_applications.csv\")\n",
        "\n",
        "# posts data\n",
        "posts = pd.read_csv(\"/content/source_job_posts.csv\")\n",
        "\n",
        "# exploring the top 5 rows\n",
        "\n",
        "display(applications.head())\n",
        "display(posts.head())"
      ],
      "execution_count": 3,
      "outputs": [
        {
          "output_type": "display_data",
          "data": {
            "text/html": [
              "<div>\n",
              "<style scoped>\n",
              "    .dataframe tbody tr th:only-of-type {\n",
              "        vertical-align: middle;\n",
              "    }\n",
              "\n",
              "    .dataframe tbody tr th {\n",
              "        vertical-align: top;\n",
              "    }\n",
              "\n",
              "    .dataframe thead th {\n",
              "        text-align: right;\n",
              "    }\n",
              "</style>\n",
              "<table border=\"1\" class=\"dataframe\">\n",
              "  <thead>\n",
              "    <tr style=\"text-align: right;\">\n",
              "      <th></th>\n",
              "      <th>id</th>\n",
              "      <th>user_id</th>\n",
              "      <th>job_id</th>\n",
              "      <th>app_date</th>\n",
              "    </tr>\n",
              "  </thead>\n",
              "  <tbody>\n",
              "    <tr>\n",
              "      <th>0</th>\n",
              "      <td>ba7b8f17</td>\n",
              "      <td>846d013c</td>\n",
              "      <td>516e4ed</td>\n",
              "      <td>2014-01-01 07:27:52</td>\n",
              "    </tr>\n",
              "    <tr>\n",
              "      <th>1</th>\n",
              "      <td>30e1ae86</td>\n",
              "      <td>9d5e32c5</td>\n",
              "      <td>516e4ed</td>\n",
              "      <td>2014-01-01 08:20:42</td>\n",
              "    </tr>\n",
              "    <tr>\n",
              "      <th>2</th>\n",
              "      <td>d829a6b7</td>\n",
              "      <td>eb26a291</td>\n",
              "      <td>516e4ed</td>\n",
              "      <td>2014-01-01 10:30:37</td>\n",
              "    </tr>\n",
              "    <tr>\n",
              "      <th>3</th>\n",
              "      <td>3f985f37</td>\n",
              "      <td>7b5e68a8</td>\n",
              "      <td>516e4ed</td>\n",
              "      <td>2014-01-01 10:55:07</td>\n",
              "    </tr>\n",
              "    <tr>\n",
              "      <th>4</th>\n",
              "      <td>27e1695</td>\n",
              "      <td>76fa79b1</td>\n",
              "      <td>516e4ed</td>\n",
              "      <td>2014-01-01 11:00:26</td>\n",
              "    </tr>\n",
              "  </tbody>\n",
              "</table>\n",
              "</div>"
            ],
            "text/plain": [
              "         id   user_id   job_id             app_date\n",
              "0  ba7b8f17  846d013c  516e4ed  2014-01-01 07:27:52\n",
              "1  30e1ae86  9d5e32c5  516e4ed  2014-01-01 08:20:42\n",
              "2  d829a6b7  eb26a291  516e4ed  2014-01-01 10:30:37\n",
              "3  3f985f37  7b5e68a8  516e4ed  2014-01-01 10:55:07\n",
              "4   27e1695  76fa79b1  516e4ed  2014-01-01 11:00:26"
            ]
          },
          "metadata": {
            "tags": []
          }
        },
        {
          "output_type": "display_data",
          "data": {
            "text/html": [
              "<div>\n",
              "<style scoped>\n",
              "    .dataframe tbody tr th:only-of-type {\n",
              "        vertical-align: middle;\n",
              "    }\n",
              "\n",
              "    .dataframe tbody tr th {\n",
              "        vertical-align: top;\n",
              "    }\n",
              "\n",
              "    .dataframe thead th {\n",
              "        text-align: right;\n",
              "    }\n",
              "</style>\n",
              "<table border=\"1\" class=\"dataframe\">\n",
              "  <thead>\n",
              "    <tr style=\"text-align: right;\">\n",
              "      <th></th>\n",
              "      <th>id</th>\n",
              "      <th>city</th>\n",
              "      <th>job_title</th>\n",
              "      <th>job_category1</th>\n",
              "      <th>job_category2</th>\n",
              "      <th>job_category3</th>\n",
              "      <th>job_industry1</th>\n",
              "      <th>job_industry2</th>\n",
              "      <th>job_industry3</th>\n",
              "      <th>salary_minimum</th>\n",
              "      <th>salary_maximum</th>\n",
              "      <th>num_vacancies</th>\n",
              "      <th>career_level</th>\n",
              "      <th>experience_years</th>\n",
              "      <th>post_date</th>\n",
              "      <th>views</th>\n",
              "      <th>job_description</th>\n",
              "      <th>job_requirements</th>\n",
              "      <th>payment_period</th>\n",
              "      <th>currency</th>\n",
              "    </tr>\n",
              "  </thead>\n",
              "  <tbody>\n",
              "    <tr>\n",
              "      <th>0</th>\n",
              "      <td>516e4ed</td>\n",
              "      <td>Ciro</td>\n",
              "      <td>Sales &amp; Marketing Agent</td>\n",
              "      <td>Sales/Retail/Business Development</td>\n",
              "      <td>Marketing</td>\n",
              "      <td>Select</td>\n",
              "      <td>Telecommunications Services</td>\n",
              "      <td>Select</td>\n",
              "      <td>Select</td>\n",
              "      <td>2000</td>\n",
              "      <td>3500</td>\n",
              "      <td>8</td>\n",
              "      <td>Entry Level</td>\n",
              "      <td>0-1</td>\n",
              "      <td>2014-01-01 06:01:41</td>\n",
              "      <td>2602</td>\n",
              "      <td>&lt;p&gt;&lt;strong&gt;Qualifications&lt;/strong&gt;:&lt;br /&gt;&lt;br /...</td>\n",
              "      <td>NaN</td>\n",
              "      <td>Per Month</td>\n",
              "      <td>Egyptian Pound</td>\n",
              "    </tr>\n",
              "    <tr>\n",
              "      <th>1</th>\n",
              "      <td>a361ef59</td>\n",
              "      <td>Cairo</td>\n",
              "      <td>German Training Coordinator</td>\n",
              "      <td>Customer Service/Support</td>\n",
              "      <td>Administration</td>\n",
              "      <td>Human Resources</td>\n",
              "      <td>Translation and Localization</td>\n",
              "      <td>Business Services - Other</td>\n",
              "      <td>Education</td>\n",
              "      <td>1000</td>\n",
              "      <td>5000</td>\n",
              "      <td>8</td>\n",
              "      <td>Entry Level</td>\n",
              "      <td>0-2</td>\n",
              "      <td>2014-01-01 20:01:18</td>\n",
              "      <td>2213</td>\n",
              "      <td>&lt;p&gt;&amp;bull;Placing jobs' ads on various websites...</td>\n",
              "      <td>NaN</td>\n",
              "      <td>Per Month</td>\n",
              "      <td>Egyptian Pound</td>\n",
              "    </tr>\n",
              "    <tr>\n",
              "      <th>2</th>\n",
              "      <td>7226ce78</td>\n",
              "      <td>Cairo</td>\n",
              "      <td>Junior Software Developer</td>\n",
              "      <td>IT/Software Development</td>\n",
              "      <td>Select</td>\n",
              "      <td>Select</td>\n",
              "      <td>Computer Software</td>\n",
              "      <td>Select</td>\n",
              "      <td>Select</td>\n",
              "      <td>2000</td>\n",
              "      <td>2500</td>\n",
              "      <td>1</td>\n",
              "      <td>Entry Level</td>\n",
              "      <td>2</td>\n",
              "      <td>2014-01-02 11:01:03</td>\n",
              "      <td>2940</td>\n",
              "      <td>&lt;span style=\"text-decoration: underline;\"&gt;&lt;str...</td>\n",
              "      <td>NaN</td>\n",
              "      <td>Per Month</td>\n",
              "      <td>Egyptian Pound</td>\n",
              "    </tr>\n",
              "    <tr>\n",
              "      <th>3</th>\n",
              "      <td>f4b2bcd6</td>\n",
              "      <td>Cairo</td>\n",
              "      <td>Application Support Engineer</td>\n",
              "      <td>IT/Software Development</td>\n",
              "      <td>Select</td>\n",
              "      <td>Select</td>\n",
              "      <td>Telecommunications Services</td>\n",
              "      <td>Select</td>\n",
              "      <td>Select</td>\n",
              "      <td>2000</td>\n",
              "      <td>3500</td>\n",
              "      <td>1</td>\n",
              "      <td>Entry Level</td>\n",
              "      <td>1-2</td>\n",
              "      <td>2014-01-02 12:01:23</td>\n",
              "      <td>2042</td>\n",
              "      <td>&lt;strong&gt;&lt;span style=\"text-decoration: underlin...</td>\n",
              "      <td>NaN</td>\n",
              "      <td>Per Month</td>\n",
              "      <td>Egyptian Pound</td>\n",
              "    </tr>\n",
              "    <tr>\n",
              "      <th>4</th>\n",
              "      <td>3fee6f73</td>\n",
              "      <td>Alexandria</td>\n",
              "      <td>Electrical Maintenance Engineer</td>\n",
              "      <td>Engineering</td>\n",
              "      <td>Select</td>\n",
              "      <td>Select</td>\n",
              "      <td>Food and Beverage Production</td>\n",
              "      <td>Select</td>\n",
              "      <td>Select</td>\n",
              "      <td>5000</td>\n",
              "      <td>8000</td>\n",
              "      <td>1</td>\n",
              "      <td>Experienced (Non-Manager)</td>\n",
              "      <td>1-3</td>\n",
              "      <td>2014-01-21 13:45:56</td>\n",
              "      <td>5684</td>\n",
              "      <td>Job Title: Electrical Maintenance Engineer&lt;br ...</td>\n",
              "      <td>NaN</td>\n",
              "      <td>Per Month</td>\n",
              "      <td>Egyptian Pound</td>\n",
              "    </tr>\n",
              "  </tbody>\n",
              "</table>\n",
              "</div>"
            ],
            "text/plain": [
              "         id        city  ... payment_period        currency\n",
              "0   516e4ed        Ciro  ...      Per Month  Egyptian Pound\n",
              "1  a361ef59       Cairo  ...      Per Month  Egyptian Pound\n",
              "2  7226ce78       Cairo  ...      Per Month  Egyptian Pound\n",
              "3  f4b2bcd6       Cairo  ...      Per Month  Egyptian Pound\n",
              "4  3fee6f73  Alexandria  ...      Per Month  Egyptian Pound\n",
              "\n",
              "[5 rows x 20 columns]"
            ]
          },
          "metadata": {
            "tags": []
          }
        }
      ]
    },
    {
      "cell_type": "code",
      "metadata": {
        "id": "yPb194h170y2"
      },
      "source": [
        "# make a copy of our data to clean it away from the source\n",
        "applications_df = applications\n",
        "# The posts data\n",
        "job_posts_df = posts"
      ],
      "execution_count": 4,
      "outputs": []
    },
    {
      "cell_type": "markdown",
      "metadata": {
        "id": "k5xovIpX7h5-"
      },
      "source": [
        "### Data Cleaning"
      ]
    },
    {
      "cell_type": "markdown",
      "metadata": {
        "id": "KCSOnekWBXd1"
      },
      "source": [
        "#### 1) Applications Dataframe"
      ]
    },
    {
      "cell_type": "code",
      "metadata": {
        "colab": {
          "base_uri": "https://localhost:8080/"
        },
        "id": "Dk4T2C6d8QNy",
        "outputId": "719b0ac3-4394-47f0-e580-09a5653f3f09"
      },
      "source": [
        "# fixing the application date\n",
        "applications_df.app_date = pd.to_datetime(applications_df.app_date)\n",
        "\n",
        "# test\n",
        "applications_df.dtypes"
      ],
      "execution_count": 5,
      "outputs": [
        {
          "output_type": "execute_result",
          "data": {
            "text/plain": [
              "id                  object\n",
              "user_id             object\n",
              "job_id              object\n",
              "app_date    datetime64[ns]\n",
              "dtype: object"
            ]
          },
          "metadata": {
            "tags": []
          },
          "execution_count": 5
        }
      ]
    },
    {
      "cell_type": "code",
      "metadata": {
        "colab": {
          "base_uri": "https://localhost:8080/",
          "height": 227
        },
        "id": "m1rFrXtN8arh",
        "outputId": "ab4eb252-543c-4042-b45c-ad28a8e87731"
      },
      "source": [
        "# set the index for app_date\n",
        "applications_df.index = applications_df['app_date']\n",
        "\n",
        "# remove the app_date column\n",
        "applications_df.drop(columns='app_date',axis= 1,inplace=True)\n",
        "\n",
        "applications_df[\"count\"] = 1\n",
        "\n",
        "# Test\n",
        "applications_df.head()"
      ],
      "execution_count": 6,
      "outputs": [
        {
          "output_type": "execute_result",
          "data": {
            "text/html": [
              "<div>\n",
              "<style scoped>\n",
              "    .dataframe tbody tr th:only-of-type {\n",
              "        vertical-align: middle;\n",
              "    }\n",
              "\n",
              "    .dataframe tbody tr th {\n",
              "        vertical-align: top;\n",
              "    }\n",
              "\n",
              "    .dataframe thead th {\n",
              "        text-align: right;\n",
              "    }\n",
              "</style>\n",
              "<table border=\"1\" class=\"dataframe\">\n",
              "  <thead>\n",
              "    <tr style=\"text-align: right;\">\n",
              "      <th></th>\n",
              "      <th>id</th>\n",
              "      <th>user_id</th>\n",
              "      <th>job_id</th>\n",
              "      <th>count</th>\n",
              "    </tr>\n",
              "    <tr>\n",
              "      <th>app_date</th>\n",
              "      <th></th>\n",
              "      <th></th>\n",
              "      <th></th>\n",
              "      <th></th>\n",
              "    </tr>\n",
              "  </thead>\n",
              "  <tbody>\n",
              "    <tr>\n",
              "      <th>2014-01-01 07:27:52</th>\n",
              "      <td>ba7b8f17</td>\n",
              "      <td>846d013c</td>\n",
              "      <td>516e4ed</td>\n",
              "      <td>1</td>\n",
              "    </tr>\n",
              "    <tr>\n",
              "      <th>2014-01-01 08:20:42</th>\n",
              "      <td>30e1ae86</td>\n",
              "      <td>9d5e32c5</td>\n",
              "      <td>516e4ed</td>\n",
              "      <td>1</td>\n",
              "    </tr>\n",
              "    <tr>\n",
              "      <th>2014-01-01 10:30:37</th>\n",
              "      <td>d829a6b7</td>\n",
              "      <td>eb26a291</td>\n",
              "      <td>516e4ed</td>\n",
              "      <td>1</td>\n",
              "    </tr>\n",
              "    <tr>\n",
              "      <th>2014-01-01 10:55:07</th>\n",
              "      <td>3f985f37</td>\n",
              "      <td>7b5e68a8</td>\n",
              "      <td>516e4ed</td>\n",
              "      <td>1</td>\n",
              "    </tr>\n",
              "    <tr>\n",
              "      <th>2014-01-01 11:00:26</th>\n",
              "      <td>27e1695</td>\n",
              "      <td>76fa79b1</td>\n",
              "      <td>516e4ed</td>\n",
              "      <td>1</td>\n",
              "    </tr>\n",
              "  </tbody>\n",
              "</table>\n",
              "</div>"
            ],
            "text/plain": [
              "                           id   user_id   job_id  count\n",
              "app_date                                               \n",
              "2014-01-01 07:27:52  ba7b8f17  846d013c  516e4ed      1\n",
              "2014-01-01 08:20:42  30e1ae86  9d5e32c5  516e4ed      1\n",
              "2014-01-01 10:30:37  d829a6b7  eb26a291  516e4ed      1\n",
              "2014-01-01 10:55:07  3f985f37  7b5e68a8  516e4ed      1\n",
              "2014-01-01 11:00:26   27e1695  76fa79b1  516e4ed      1"
            ]
          },
          "metadata": {
            "tags": []
          },
          "execution_count": 6
        }
      ]
    },
    {
      "cell_type": "code",
      "metadata": {
        "colab": {
          "base_uri": "https://localhost:8080/"
        },
        "id": "Dz09l53oudpN",
        "outputId": "cf0569df-fd90-4417-de44-3c16b4e4dcdf"
      },
      "source": [
        "## Removing duplicates\n",
        "applications_df.drop_duplicates(inplace = True)\n",
        "\n",
        "## Check\n",
        "applications_df.duplicated().sum()"
      ],
      "execution_count": 13,
      "outputs": [
        {
          "output_type": "execute_result",
          "data": {
            "text/plain": [
              "0"
            ]
          },
          "metadata": {
            "tags": []
          },
          "execution_count": 13
        }
      ]
    },
    {
      "cell_type": "markdown",
      "metadata": {
        "id": "6Lv-tc59Bk98"
      },
      "source": [
        "#### 2) Posts Dataframe"
      ]
    },
    {
      "cell_type": "code",
      "metadata": {
        "colab": {
          "base_uri": "https://localhost:8080/"
        },
        "id": "OKboPFv_87OF",
        "outputId": "87b7f491-a559-417e-bb41-7a616e3c7c55"
      },
      "source": [
        "# explore more info about the job-posts data\n",
        "job_posts_df.info()"
      ],
      "execution_count": 7,
      "outputs": [
        {
          "output_type": "stream",
          "text": [
            "<class 'pandas.core.frame.DataFrame'>\n",
            "RangeIndex: 21850 entries, 0 to 21849\n",
            "Data columns (total 20 columns):\n",
            " #   Column            Non-Null Count  Dtype \n",
            "---  ------            --------------  ----- \n",
            " 0   id                21850 non-null  object\n",
            " 1   city              21850 non-null  object\n",
            " 2   job_title         21850 non-null  object\n",
            " 3   job_category1     21850 non-null  object\n",
            " 4   job_category2     21850 non-null  object\n",
            " 5   job_category3     21850 non-null  object\n",
            " 6   job_industry1     21850 non-null  object\n",
            " 7   job_industry2     21850 non-null  object\n",
            " 8   job_industry3     21850 non-null  object\n",
            " 9   salary_minimum    21850 non-null  int64 \n",
            " 10  salary_maximum    21850 non-null  int64 \n",
            " 11  num_vacancies     21850 non-null  int64 \n",
            " 12  career_level      21850 non-null  object\n",
            " 13  experience_years  21850 non-null  object\n",
            " 14  post_date         21850 non-null  object\n",
            " 15  views             21850 non-null  int64 \n",
            " 16  job_description   21576 non-null  object\n",
            " 17  job_requirements  19217 non-null  object\n",
            " 18  payment_period    21845 non-null  object\n",
            " 19  currency          21845 non-null  object\n",
            "dtypes: int64(4), object(16)\n",
            "memory usage: 3.3+ MB\n"
          ],
          "name": "stdout"
        }
      ]
    },
    {
      "cell_type": "markdown",
      "metadata": {
        "id": "j17TUzGL3PYz"
      },
      "source": [
        "##### Columns cleaning:\n",
        "> - columns to be dropped  -->  'job_category2','job_category3','job_industry2','job_industry3'\n",
        "- fixing the post_date column -->  datetime\n",
        "- create new columns       -->  day and month for more insights"
      ]
    },
    {
      "cell_type": "code",
      "metadata": {
        "id": "bI-JyLiv3PYz",
        "colab": {
          "base_uri": "https://localhost:8080/",
          "height": 439
        },
        "outputId": "39b78c92-a10b-43f3-8920-e7fd2cf78f7e"
      },
      "source": [
        "# drop the unneeded columns \n",
        "columns_drop = ['job_category2','job_category3','job_industry2','job_industry3']\n",
        "job_posts_df.drop(columns=columns_drop, axis=1, inplace=True)\n",
        "           \n",
        "\n",
        "# rename the columns\n",
        "job_posts_df.rename(columns={'job_category1': 'job_category', 'job_industry1': 'job_industry'}, inplace=True)\n",
        "\n",
        "# convert post_date to datetime \n",
        "job_posts_df.post_date = pd.to_datetime(job_posts_df['post_date'])\n",
        "\n",
        "# extract month name\n",
        "job_posts_df['month'] = job_posts_df.post_date.apply(lambda x: x.month_name())\n",
        "\n",
        "# extract  name of the day\n",
        "job_posts_df['day'] = job_posts_df.post_date.apply(lambda x: x.day_name())\n",
        "\n",
        "\n",
        "# check for data sample\n",
        "job_posts_df.sample(5)"
      ],
      "execution_count": 8,
      "outputs": [
        {
          "output_type": "execute_result",
          "data": {
            "text/html": [
              "<div>\n",
              "<style scoped>\n",
              "    .dataframe tbody tr th:only-of-type {\n",
              "        vertical-align: middle;\n",
              "    }\n",
              "\n",
              "    .dataframe tbody tr th {\n",
              "        vertical-align: top;\n",
              "    }\n",
              "\n",
              "    .dataframe thead th {\n",
              "        text-align: right;\n",
              "    }\n",
              "</style>\n",
              "<table border=\"1\" class=\"dataframe\">\n",
              "  <thead>\n",
              "    <tr style=\"text-align: right;\">\n",
              "      <th></th>\n",
              "      <th>id</th>\n",
              "      <th>city</th>\n",
              "      <th>job_title</th>\n",
              "      <th>job_category</th>\n",
              "      <th>job_industry</th>\n",
              "      <th>salary_minimum</th>\n",
              "      <th>salary_maximum</th>\n",
              "      <th>num_vacancies</th>\n",
              "      <th>career_level</th>\n",
              "      <th>experience_years</th>\n",
              "      <th>post_date</th>\n",
              "      <th>views</th>\n",
              "      <th>job_description</th>\n",
              "      <th>job_requirements</th>\n",
              "      <th>payment_period</th>\n",
              "      <th>currency</th>\n",
              "      <th>month</th>\n",
              "      <th>day</th>\n",
              "    </tr>\n",
              "  </thead>\n",
              "  <tbody>\n",
              "    <tr>\n",
              "      <th>12467</th>\n",
              "      <td>ca688316</td>\n",
              "      <td>Cairo</td>\n",
              "      <td>Customer Service Agent</td>\n",
              "      <td>Customer Service/Support</td>\n",
              "      <td>Telecommunications Services</td>\n",
              "      <td>1200</td>\n",
              "      <td>2400</td>\n",
              "      <td>15</td>\n",
              "      <td>Entry Level</td>\n",
              "      <td>0-3</td>\n",
              "      <td>2015-09-02 13:09:46</td>\n",
              "      <td>2288</td>\n",
              "      <td>&lt;ul&gt;\\r\\n&lt;li&gt;Handle customers inquiries and com...</td>\n",
              "      <td>&lt;ul&gt;\\r\\n&lt;li&gt;Graduates only&lt;/li&gt;\\r\\n&lt;li&gt;Good to...</td>\n",
              "      <td>Per Month</td>\n",
              "      <td>Egyptian Pound</td>\n",
              "      <td>September</td>\n",
              "      <td>Wednesday</td>\n",
              "    </tr>\n",
              "    <tr>\n",
              "      <th>7147</th>\n",
              "      <td>43b63c57</td>\n",
              "      <td>Giza</td>\n",
              "      <td>Fundraising Coordinator</td>\n",
              "      <td>Sales/Retail/Business Development</td>\n",
              "      <td>Business Services - Other</td>\n",
              "      <td>1500</td>\n",
              "      <td>3000</td>\n",
              "      <td>2</td>\n",
              "      <td>Experienced (Non-Manager)</td>\n",
              "      <td>2+</td>\n",
              "      <td>2015-02-15 13:02:54</td>\n",
              "      <td>860</td>\n",
              "      <td>&lt;ul&gt;\\r\\n&lt;li&gt;A Fundraising Coordinator is a dyn...</td>\n",
              "      <td>&lt;ul&gt;\\r\\n&lt;li&gt;Strong inter-personal skills.&lt;/li&gt;...</td>\n",
              "      <td>Per Month</td>\n",
              "      <td>Egyptian Pound</td>\n",
              "      <td>February</td>\n",
              "      <td>Sunday</td>\n",
              "    </tr>\n",
              "    <tr>\n",
              "      <th>9157</th>\n",
              "      <td>57c92b02</td>\n",
              "      <td>Cairo</td>\n",
              "      <td>Sales Engineer</td>\n",
              "      <td>Engineering</td>\n",
              "      <td>Engineering - Mechanical or Industrial</td>\n",
              "      <td>2500</td>\n",
              "      <td>3000</td>\n",
              "      <td>3</td>\n",
              "      <td>Experienced (Non-Manager)</td>\n",
              "      <td>2-3</td>\n",
              "      <td>2015-05-03 16:05:58</td>\n",
              "      <td>1227</td>\n",
              "      <td>&lt;ul&gt;\\r\\n&lt;li&gt;Searching for new clients who coul...</td>\n",
              "      <td>&lt;ul&gt;\\r\\n&lt;li&gt;Electrical Engineering graduates.&lt;...</td>\n",
              "      <td>Per Month</td>\n",
              "      <td>Egyptian Pound</td>\n",
              "      <td>May</td>\n",
              "      <td>Sunday</td>\n",
              "    </tr>\n",
              "    <tr>\n",
              "      <th>18687</th>\n",
              "      <td>f040bf79</td>\n",
              "      <td>Giza</td>\n",
              "      <td>Mechanical Installations &amp; Electrical Technici...</td>\n",
              "      <td>Engineering</td>\n",
              "      <td>Engineering - Mechanical or Industrial</td>\n",
              "      <td>1200</td>\n",
              "      <td>2000</td>\n",
              "      <td>1</td>\n",
              "      <td>Experienced (Non-Manager)</td>\n",
              "      <td>5+</td>\n",
              "      <td>2016-03-01 11:03:19</td>\n",
              "      <td>48</td>\n",
              "      <td>&amp;bull; مطلوب فنيين كهرباء و تركيبات ميكانيكية ...</td>\n",
              "      <td>&amp;bull; القدرة على إتباع القواعد والأوامر الصاد...</td>\n",
              "      <td>Per Month</td>\n",
              "      <td>Egyptian Pound</td>\n",
              "      <td>March</td>\n",
              "      <td>Tuesday</td>\n",
              "    </tr>\n",
              "    <tr>\n",
              "      <th>15249</th>\n",
              "      <td>97c800d3</td>\n",
              "      <td>Cairo</td>\n",
              "      <td>كول سنتر باحدي اكبر شركات الاتصالات</td>\n",
              "      <td>Customer Service/Support</td>\n",
              "      <td>Consumer Services</td>\n",
              "      <td>1200</td>\n",
              "      <td>1600</td>\n",
              "      <td>100</td>\n",
              "      <td>Entry Level</td>\n",
              "      <td>0</td>\n",
              "      <td>2015-11-27 08:11:11</td>\n",
              "      <td>34</td>\n",
              "      <td>ساكن في القاهرة الكبري شاب متخرج من مؤهل عالي ...</td>\n",
              "      <td>&lt;p&gt;المواصفات&lt;/p&gt;\\r\\n&lt;p&gt;1- خريج من تعليم عالي&lt;b...</td>\n",
              "      <td>Per Month</td>\n",
              "      <td>Egyptian Pound</td>\n",
              "      <td>November</td>\n",
              "      <td>Friday</td>\n",
              "    </tr>\n",
              "  </tbody>\n",
              "</table>\n",
              "</div>"
            ],
            "text/plain": [
              "             id   city  ...      month        day\n",
              "12467  ca688316  Cairo  ...  September  Wednesday\n",
              "7147   43b63c57   Giza  ...   February     Sunday\n",
              "9157   57c92b02  Cairo  ...        May     Sunday\n",
              "18687  f040bf79   Giza  ...      March    Tuesday\n",
              "15249  97c800d3  Cairo  ...   November     Friday\n",
              "\n",
              "[5 rows x 18 columns]"
            ]
          },
          "metadata": {
            "tags": []
          },
          "execution_count": 8
        }
      ]
    },
    {
      "cell_type": "markdown",
      "metadata": {
        "id": "z8vxOEUXq84C"
      },
      "source": [
        "##### Removing Duplicates"
      ]
    },
    {
      "cell_type": "code",
      "metadata": {
        "colab": {
          "base_uri": "https://localhost:8080/"
        },
        "id": "O5PJfgzkrCAI",
        "outputId": "b9f32a24-310c-4013-f9d4-7e7ab4bef949"
      },
      "source": [
        "## Removing duplicates\n",
        "job_posts_df.drop_duplicates(inplace = True)\n",
        "\n",
        "## Check\n",
        "job_posts_df.duplicated().sum()"
      ],
      "execution_count": 18,
      "outputs": [
        {
          "output_type": "execute_result",
          "data": {
            "text/plain": [
              "0"
            ]
          },
          "metadata": {
            "tags": []
          },
          "execution_count": 18
        }
      ]
    },
    {
      "cell_type": "markdown",
      "metadata": {
        "id": "_ylcCvBB_tJ-"
      },
      "source": [
        "##### Missing values:"
      ]
    },
    {
      "cell_type": "code",
      "metadata": {
        "colab": {
          "base_uri": "https://localhost:8080/"
        },
        "id": "RLqfqCBj9Gw5",
        "outputId": "74346cc8-f144-4911-ec1b-653b69cdac05"
      },
      "source": [
        "# check for null values\n",
        "job_posts_df.isnull().sum()"
      ],
      "execution_count": 19,
      "outputs": [
        {
          "output_type": "execute_result",
          "data": {
            "text/plain": [
              "id                     0\n",
              "city                   0\n",
              "job_title              0\n",
              "job_category           0\n",
              "job_industry           0\n",
              "salary_minimum         0\n",
              "salary_maximum         0\n",
              "num_vacancies          0\n",
              "career_level           0\n",
              "experience_years       0\n",
              "post_date              0\n",
              "views                  0\n",
              "job_description      274\n",
              "job_requirements    2633\n",
              "payment_period         5\n",
              "currency               5\n",
              "month                  0\n",
              "day                    0\n",
              "dtype: int64"
            ]
          },
          "metadata": {
            "tags": []
          },
          "execution_count": 19
        }
      ]
    },
    {
      "cell_type": "markdown",
      "metadata": {
        "id": "pCa4uSpJACuy"
      },
      "source": [
        "So, we have missing values in columns:  'job_description' and 'job-requirement' we can pass it by now; as we are not interested in these columns for the puropse of our analysis, so we can check first for the currency column."
      ]
    },
    {
      "cell_type": "code",
      "metadata": {
        "colab": {
          "base_uri": "https://localhost:8080/",
          "height": 473
        },
        "id": "ndWrCrVAAEGS",
        "outputId": "56bdd5c8-254f-4c6d-dd28-f53efa8a19ca"
      },
      "source": [
        "# check for the null values in currency column\n",
        "job_posts_df.loc[job_posts_df.currency.isnull()]"
      ],
      "execution_count": 20,
      "outputs": [
        {
          "output_type": "execute_result",
          "data": {
            "text/html": [
              "<div>\n",
              "<style scoped>\n",
              "    .dataframe tbody tr th:only-of-type {\n",
              "        vertical-align: middle;\n",
              "    }\n",
              "\n",
              "    .dataframe tbody tr th {\n",
              "        vertical-align: top;\n",
              "    }\n",
              "\n",
              "    .dataframe thead th {\n",
              "        text-align: right;\n",
              "    }\n",
              "</style>\n",
              "<table border=\"1\" class=\"dataframe\">\n",
              "  <thead>\n",
              "    <tr style=\"text-align: right;\">\n",
              "      <th></th>\n",
              "      <th>id</th>\n",
              "      <th>city</th>\n",
              "      <th>job_title</th>\n",
              "      <th>job_category</th>\n",
              "      <th>job_industry</th>\n",
              "      <th>salary_minimum</th>\n",
              "      <th>salary_maximum</th>\n",
              "      <th>num_vacancies</th>\n",
              "      <th>career_level</th>\n",
              "      <th>experience_years</th>\n",
              "      <th>post_date</th>\n",
              "      <th>views</th>\n",
              "      <th>job_description</th>\n",
              "      <th>job_requirements</th>\n",
              "      <th>payment_period</th>\n",
              "      <th>currency</th>\n",
              "      <th>month</th>\n",
              "      <th>day</th>\n",
              "    </tr>\n",
              "  </thead>\n",
              "  <tbody>\n",
              "    <tr>\n",
              "      <th>11264</th>\n",
              "      <td>671459f6</td>\n",
              "      <td>الجيزة</td>\n",
              "      <td>مطلوب موظفين كول سنتر و مدخلين بيانات للعمل بك...</td>\n",
              "      <td>Customer Service/Support</td>\n",
              "      <td>Marketing and Advertising</td>\n",
              "      <td>1000</td>\n",
              "      <td>3000</td>\n",
              "      <td>1</td>\n",
              "      <td>Student</td>\n",
              "      <td>0/1</td>\n",
              "      <td>2015-07-24 15:07:18</td>\n",
              "      <td>2</td>\n",
              "      <td>&lt;strong&gt;لا يشترط خبره و لا يشترط مؤهل&lt;/strong&gt;...</td>\n",
              "      <td>&lt;ol&gt;\\r\\n&lt;li&gt;&lt;strong&gt;مهارات تواصل جيدة&lt;/strong&gt;...</td>\n",
              "      <td>NaN</td>\n",
              "      <td>NaN</td>\n",
              "      <td>July</td>\n",
              "      <td>Friday</td>\n",
              "    </tr>\n",
              "    <tr>\n",
              "      <th>11267</th>\n",
              "      <td>fb9bd9dc</td>\n",
              "      <td>الجيزة</td>\n",
              "      <td>مطلوب مندوب مبيعات للعمل بكبرى الشركات</td>\n",
              "      <td>Marketing</td>\n",
              "      <td>Agriculture/Forestry/Fishing/Farming</td>\n",
              "      <td>1000</td>\n",
              "      <td>2500</td>\n",
              "      <td>1</td>\n",
              "      <td>Student</td>\n",
              "      <td>0-1</td>\n",
              "      <td>2015-07-24 16:07:10</td>\n",
              "      <td>1</td>\n",
              "      <td>لا يشترط خبرة و لا يشترط مؤهل&lt;br /&gt;السن:18/40&lt;...</td>\n",
              "      <td>القدرة علي الاقناع&lt;br /&gt;حسن المظهر</td>\n",
              "      <td>NaN</td>\n",
              "      <td>NaN</td>\n",
              "      <td>July</td>\n",
              "      <td>Friday</td>\n",
              "    </tr>\n",
              "    <tr>\n",
              "      <th>11268</th>\n",
              "      <td>30c70a79</td>\n",
              "      <td>الجيزة</td>\n",
              "      <td>مطلوب موظفين كول سنتر و مدخلين بيانات للعمل بك...</td>\n",
              "      <td>Customer Service/Support</td>\n",
              "      <td>Outsourcing/Offshoring</td>\n",
              "      <td>1000</td>\n",
              "      <td>3000</td>\n",
              "      <td>1</td>\n",
              "      <td>Student</td>\n",
              "      <td>0-1</td>\n",
              "      <td>2015-07-24 16:07:36</td>\n",
              "      <td>0</td>\n",
              "      <td>لا يشترط مؤهل او خبرة سابقة&lt;br /&gt;السن المطلوب:...</td>\n",
              "      <td>مهارات تواصل جيدة&lt;br /&gt;القدرة علي تحديد مشكلة ...</td>\n",
              "      <td>NaN</td>\n",
              "      <td>NaN</td>\n",
              "      <td>July</td>\n",
              "      <td>Friday</td>\n",
              "    </tr>\n",
              "    <tr>\n",
              "      <th>19501</th>\n",
              "      <td>4ae1b1df</td>\n",
              "      <td>Cairo</td>\n",
              "      <td>Architect</td>\n",
              "      <td>Engineering</td>\n",
              "      <td>Architectural and Design Services</td>\n",
              "      <td>3000</td>\n",
              "      <td>4500</td>\n",
              "      <td>1</td>\n",
              "      <td>Experienced (Non-Manager)</td>\n",
              "      <td>3</td>\n",
              "      <td>2016-03-21 16:03:39</td>\n",
              "      <td>0</td>\n",
              "      <td>NaN</td>\n",
              "      <td>NaN</td>\n",
              "      <td>NaN</td>\n",
              "      <td>NaN</td>\n",
              "      <td>March</td>\n",
              "      <td>Monday</td>\n",
              "    </tr>\n",
              "    <tr>\n",
              "      <th>19502</th>\n",
              "      <td>cc75c371</td>\n",
              "      <td>Cairo</td>\n",
              "      <td>Urban Planner</td>\n",
              "      <td>Engineering</td>\n",
              "      <td>Architectural and Design Services</td>\n",
              "      <td>3000</td>\n",
              "      <td>4500</td>\n",
              "      <td>1</td>\n",
              "      <td>Entry Level</td>\n",
              "      <td>3</td>\n",
              "      <td>2016-03-21 16:03:56</td>\n",
              "      <td>0</td>\n",
              "      <td>NaN</td>\n",
              "      <td>NaN</td>\n",
              "      <td>NaN</td>\n",
              "      <td>NaN</td>\n",
              "      <td>March</td>\n",
              "      <td>Monday</td>\n",
              "    </tr>\n",
              "  </tbody>\n",
              "</table>\n",
              "</div>"
            ],
            "text/plain": [
              "             id    city  ...  month     day\n",
              "11264  671459f6  الجيزة  ...   July  Friday\n",
              "11267  fb9bd9dc  الجيزة  ...   July  Friday\n",
              "11268  30c70a79  الجيزة  ...   July  Friday\n",
              "19501  4ae1b1df   Cairo  ...  March  Monday\n",
              "19502  cc75c371   Cairo  ...  March  Monday\n",
              "\n",
              "[5 rows x 18 columns]"
            ]
          },
          "metadata": {
            "tags": []
          },
          "execution_count": 20
        }
      ]
    },
    {
      "cell_type": "markdown",
      "metadata": {
        "id": "ghv0L9EDAzZp"
      },
      "source": [
        "So, these are missed and we can fill it with Egyptian Pound as it seems local job_posts"
      ]
    },
    {
      "cell_type": "code",
      "metadata": {
        "colab": {
          "base_uri": "https://localhost:8080/"
        },
        "id": "e_uPsc1aAc7a",
        "outputId": "25b37074-9938-41ff-cc87-d796fac054e4"
      },
      "source": [
        "# fix the null values and converts it to Egyptian pound\n",
        "job_posts_df.currency.fillna('Egyptian Pound', inplace = True)\n",
        "\n",
        "# check\n",
        "job_posts_df.currency.isnull().sum()"
      ],
      "execution_count": 21,
      "outputs": [
        {
          "output_type": "execute_result",
          "data": {
            "text/plain": [
              "0"
            ]
          },
          "metadata": {
            "tags": []
          },
          "execution_count": 21
        }
      ]
    },
    {
      "cell_type": "markdown",
      "metadata": {
        "id": "6NJSVEMYCPqg"
      },
      "source": [
        "##### Experience_years columns:\n",
        "> - This column contains messy experience years ranges\n",
        "- unify the experience range for better analysis (Data Uniquness)\n",
        "- create new column experience_range"
      ]
    },
    {
      "cell_type": "code",
      "metadata": {
        "colab": {
          "base_uri": "https://localhost:8080/"
        },
        "id": "XEXDC_5cCMYS",
        "outputId": "218f1710-a139-429b-9aaa-8cc91205855c"
      },
      "source": [
        "# check for the number of unique values in experience_years column\n",
        "job_posts_df.experience_years.nunique()"
      ],
      "execution_count": 22,
      "outputs": [
        {
          "output_type": "execute_result",
          "data": {
            "text/plain": [
              "461"
            ]
          },
          "metadata": {
            "tags": []
          },
          "execution_count": 22
        }
      ]
    },
    {
      "cell_type": "code",
      "metadata": {
        "colab": {
          "base_uri": "https://localhost:8080/"
        },
        "id": "yrYz1D8sCAXC",
        "outputId": "53223194-2e9b-4928-a4d7-ba9fe402ea00"
      },
      "source": [
        "# check for the experience years\n",
        "job_posts_df.experience_years.unique()[::-10]"
      ],
      "execution_count": 23,
      "outputs": [
        {
          "output_type": "execute_result",
          "data": {
            "text/plain": [
              "array(['3 :5', '6 - 8 ', '4  to  6', '3--5', '3-7 ', '2 at least',\n",
              "       '3year', '1 - 2 years',\n",
              "       '3-5 Years of experience in Cement Industry', '5 ', '5-6 ', '1- 5',\n",
              "       '<8', '0 or 1 year', '7  to 9 ', '6+ ', '0 - 5', '6-12', '9-15',\n",
              "       '5-8 ', ' 2+', '0,1', '4 years', '3 سنوات على الاقل', '0 - 1',\n",
              "       '1-7', '8 -10', '0 - 3', '5 -7 ', '1- 3', '4-5 ', '2:4', '0 -2',\n",
              "       '1~2', '1-5 ', '2-3 ', '2:3', '7 - 15', '1-3 ', '20-25', '1-4 ',\n",
              "       '0-1 ', '7-10', '0 , 1 or 2', '3-5', '6', '0-1'], dtype=object)"
            ]
          },
          "metadata": {
            "tags": []
          },
          "execution_count": 23
        }
      ]
    },
    {
      "cell_type": "markdown",
      "metadata": {
        "id": "mZH3q5eTCo8U"
      },
      "source": [
        "- as we notice here, there is a messy categories we are going to fix it so expereience range will be as:\n",
        "  Fresh, <5,5-10,10-15,15-20,20-25,>25"
      ]
    },
    {
      "cell_type": "code",
      "metadata": {
        "id": "WEQ_1jQ4ChiK"
      },
      "source": [
        "# fix the experience year column\n",
        "l = job_posts_df.experience_years.values\n",
        "range_exps =[]\n",
        "for i in l:\n",
        "    pattern =re.findall('\\\\b\\\\d+\\\\b', i)\n",
        "    if len(pattern) == 0:\n",
        "        #min_exp = min([int(s) for s in i if s.isdigit()])\n",
        "        max_exp = max([int(s) for s in i if s.isdigit()])\n",
        "    else:\n",
        "        #min_exp = min([int(s) for s in pattern])\n",
        "        max_exp = max([int(s) for s in pattern])\n",
        "    # check for the + sign\n",
        "    if '+' in i:\n",
        "        max_exp += 3\n",
        "    # add to our cleaned list\n",
        "    if max_exp == 0 :\n",
        "        range_exp = 'Fresh'\n",
        "    elif 0 < max_exp < 5:\n",
        "        range_exp = 'below 5'\n",
        "    elif 5 <= max_exp < 10:\n",
        "        range_exp = '5-10'\n",
        "    elif 10 <= max_exp < 15:\n",
        "        range_exp = '10-15'\n",
        "    elif 15 <= max_exp < 20:\n",
        "        range_exp = '15-20'\n",
        "    elif 20 <= max_exp <= 25:\n",
        "        range_exp = '20-25'\n",
        "    else:\n",
        "        range_exp = 'above 25'\n",
        "    range_exps.append(range_exp)"
      ],
      "execution_count": 24,
      "outputs": []
    },
    {
      "cell_type": "code",
      "metadata": {
        "colab": {
          "base_uri": "https://localhost:8080/"
        },
        "id": "9o18G7ZuGIwK",
        "outputId": "7b933ba0-0132-49ec-cbf5-0a6c5c005155"
      },
      "source": [
        "\n",
        "# check the no. of values\n",
        "len(range_exps) == job_posts_df.shape[0]"
      ],
      "execution_count": 25,
      "outputs": [
        {
          "output_type": "execute_result",
          "data": {
            "text/plain": [
              "True"
            ]
          },
          "metadata": {
            "tags": []
          },
          "execution_count": 25
        }
      ]
    },
    {
      "cell_type": "code",
      "metadata": {
        "id": "Xr1heAh2GfmN"
      },
      "source": [
        "# so now we can add the cleaned range to our dataset\n",
        "job_posts_df['experience_range'] = range_exps"
      ],
      "execution_count": 26,
      "outputs": []
    },
    {
      "cell_type": "code",
      "metadata": {
        "colab": {
          "base_uri": "https://localhost:8080/"
        },
        "id": "ee47ffanGOEH",
        "outputId": "5cd6dbb3-29e7-461f-c1cb-164ed00b4956"
      },
      "source": [
        "# experience range new values\n",
        "job_posts_df.experience_range.unique()"
      ],
      "execution_count": 27,
      "outputs": [
        {
          "output_type": "execute_result",
          "data": {
            "text/plain": [
              "array(['below 5', '5-10', '10-15', '15-20', 'Fresh', '20-25', 'above 25'],\n",
              "      dtype=object)"
            ]
          },
          "metadata": {
            "tags": []
          },
          "execution_count": 27
        }
      ]
    },
    {
      "cell_type": "code",
      "metadata": {
        "colab": {
          "base_uri": "https://localhost:8080/",
          "height": 197
        },
        "id": "6hL3Lb9sGbRr",
        "outputId": "10fa70e3-2b9f-4939-92a8-125f9f44a7e8"
      },
      "source": [
        "# further check for some samples from the dataset\n",
        "job_posts_df.sample(5,random_state=1)[['experience_years','experience_range']]"
      ],
      "execution_count": 28,
      "outputs": [
        {
          "output_type": "execute_result",
          "data": {
            "text/html": [
              "<div>\n",
              "<style scoped>\n",
              "    .dataframe tbody tr th:only-of-type {\n",
              "        vertical-align: middle;\n",
              "    }\n",
              "\n",
              "    .dataframe tbody tr th {\n",
              "        vertical-align: top;\n",
              "    }\n",
              "\n",
              "    .dataframe thead th {\n",
              "        text-align: right;\n",
              "    }\n",
              "</style>\n",
              "<table border=\"1\" class=\"dataframe\">\n",
              "  <thead>\n",
              "    <tr style=\"text-align: right;\">\n",
              "      <th></th>\n",
              "      <th>experience_years</th>\n",
              "      <th>experience_range</th>\n",
              "    </tr>\n",
              "  </thead>\n",
              "  <tbody>\n",
              "    <tr>\n",
              "      <th>15815</th>\n",
              "      <td>1-3</td>\n",
              "      <td>below 5</td>\n",
              "    </tr>\n",
              "    <tr>\n",
              "      <th>9729</th>\n",
              "      <td>0-1</td>\n",
              "      <td>below 5</td>\n",
              "    </tr>\n",
              "    <tr>\n",
              "      <th>9398</th>\n",
              "      <td>1+</td>\n",
              "      <td>below 5</td>\n",
              "    </tr>\n",
              "    <tr>\n",
              "      <th>33</th>\n",
              "      <td>3-7</td>\n",
              "      <td>5-10</td>\n",
              "    </tr>\n",
              "    <tr>\n",
              "      <th>12291</th>\n",
              "      <td>2-5</td>\n",
              "      <td>5-10</td>\n",
              "    </tr>\n",
              "  </tbody>\n",
              "</table>\n",
              "</div>"
            ],
            "text/plain": [
              "      experience_years experience_range\n",
              "15815              1-3          below 5\n",
              "9729               0-1          below 5\n",
              "9398                1+          below 5\n",
              "33                 3-7             5-10\n",
              "12291              2-5             5-10"
            ]
          },
          "metadata": {
            "tags": []
          },
          "execution_count": 28
        }
      ]
    },
    {
      "cell_type": "code",
      "metadata": {
        "colab": {
          "base_uri": "https://localhost:8080/",
          "height": 473
        },
        "id": "DUcD1xfzGnQ5",
        "outputId": "439044d3-17cd-494a-bee1-d738e8cf7c6b"
      },
      "source": [
        "# now we can drop the uncleaned column of experience_years\n",
        "job_posts_df.drop(columns= 'experience_years',inplace=True)\n",
        "\n",
        "# viewing a random sample of so far-cleaned \n",
        "job_posts_df.sample(5, random_state=1)"
      ],
      "execution_count": 29,
      "outputs": [
        {
          "output_type": "execute_result",
          "data": {
            "text/html": [
              "<div>\n",
              "<style scoped>\n",
              "    .dataframe tbody tr th:only-of-type {\n",
              "        vertical-align: middle;\n",
              "    }\n",
              "\n",
              "    .dataframe tbody tr th {\n",
              "        vertical-align: top;\n",
              "    }\n",
              "\n",
              "    .dataframe thead th {\n",
              "        text-align: right;\n",
              "    }\n",
              "</style>\n",
              "<table border=\"1\" class=\"dataframe\">\n",
              "  <thead>\n",
              "    <tr style=\"text-align: right;\">\n",
              "      <th></th>\n",
              "      <th>id</th>\n",
              "      <th>city</th>\n",
              "      <th>job_title</th>\n",
              "      <th>job_category</th>\n",
              "      <th>job_industry</th>\n",
              "      <th>salary_minimum</th>\n",
              "      <th>salary_maximum</th>\n",
              "      <th>num_vacancies</th>\n",
              "      <th>career_level</th>\n",
              "      <th>post_date</th>\n",
              "      <th>views</th>\n",
              "      <th>job_description</th>\n",
              "      <th>job_requirements</th>\n",
              "      <th>payment_period</th>\n",
              "      <th>currency</th>\n",
              "      <th>month</th>\n",
              "      <th>day</th>\n",
              "      <th>experience_range</th>\n",
              "    </tr>\n",
              "  </thead>\n",
              "  <tbody>\n",
              "    <tr>\n",
              "      <th>15815</th>\n",
              "      <td>45142a1e</td>\n",
              "      <td>Cairo</td>\n",
              "      <td>Telesales Agent - Software/ hardware Products</td>\n",
              "      <td>Sales/Retail/Business Development</td>\n",
              "      <td>Computer/IT Services</td>\n",
              "      <td>1200</td>\n",
              "      <td>1500</td>\n",
              "      <td>3</td>\n",
              "      <td>Entry Level</td>\n",
              "      <td>2015-12-13 16:12:10</td>\n",
              "      <td>839</td>\n",
              "      <td>&lt;strong&gt;About the Job and Duties :&lt;/strong&gt;&lt;br...</td>\n",
              "      <td>&lt;ul&gt;\\r\\n&lt;li&gt;Bachelor Degree: Commerce or equiv...</td>\n",
              "      <td>Per Month</td>\n",
              "      <td>Egyptian Pound</td>\n",
              "      <td>December</td>\n",
              "      <td>Sunday</td>\n",
              "      <td>below 5</td>\n",
              "    </tr>\n",
              "    <tr>\n",
              "      <th>9729</th>\n",
              "      <td>7d5476e3</td>\n",
              "      <td>Cairo</td>\n",
              "      <td>International Customer Service Representative ...</td>\n",
              "      <td>Customer Service/Support</td>\n",
              "      <td>Telecommunications Services</td>\n",
              "      <td>2200</td>\n",
              "      <td>4600</td>\n",
              "      <td>40</td>\n",
              "      <td>Entry Level</td>\n",
              "      <td>2015-05-20 15:05:32</td>\n",
              "      <td>2314</td>\n",
              "      <td>&lt;ul&gt;\\r\\n&lt;li&gt;Handle German Customers inquires a...</td>\n",
              "      <td>&lt;ul&gt;\\r\\n&lt;li&gt;Fluent German&lt;/li&gt;\\r\\n&lt;li&gt;Excellen...</td>\n",
              "      <td>Per Month</td>\n",
              "      <td>Egyptian Pound</td>\n",
              "      <td>May</td>\n",
              "      <td>Wednesday</td>\n",
              "      <td>below 5</td>\n",
              "    </tr>\n",
              "    <tr>\n",
              "      <th>9398</th>\n",
              "      <td>77796efd</td>\n",
              "      <td>Giza</td>\n",
              "      <td>Call Center Agent</td>\n",
              "      <td>Sales/Retail/Business Development</td>\n",
              "      <td>Marketing and Advertising</td>\n",
              "      <td>2000</td>\n",
              "      <td>2500</td>\n",
              "      <td>2</td>\n",
              "      <td>Entry Level</td>\n",
              "      <td>2015-05-21 14:39:59</td>\n",
              "      <td>1887</td>\n",
              "      <td>&lt;ul&gt;\\r\\n&lt;li&gt;Advises present or prospective cus...</td>\n",
              "      <td>&lt;ul&gt;\\r\\n&lt;li&gt;1 years&amp;rsquo; experience in the t...</td>\n",
              "      <td>Per Month</td>\n",
              "      <td>Egyptian Pound</td>\n",
              "      <td>May</td>\n",
              "      <td>Thursday</td>\n",
              "      <td>below 5</td>\n",
              "    </tr>\n",
              "    <tr>\n",
              "      <th>33</th>\n",
              "      <td>77d749b9</td>\n",
              "      <td>Cairo</td>\n",
              "      <td>Senior PHP Developer</td>\n",
              "      <td>IT/Software Development</td>\n",
              "      <td>Computer Software</td>\n",
              "      <td>3500</td>\n",
              "      <td>7500</td>\n",
              "      <td>5</td>\n",
              "      <td>Experienced (Non-Manager)</td>\n",
              "      <td>2014-01-05 19:01:23</td>\n",
              "      <td>1055</td>\n",
              "      <td>&lt;p&gt;&lt;span style=\"text-decoration: underline;\"&gt;&lt;...</td>\n",
              "      <td>&lt;p&gt;1. Solid commercial knowledge of PHP, XHTML...</td>\n",
              "      <td>Per Month</td>\n",
              "      <td>Egyptian Pound</td>\n",
              "      <td>January</td>\n",
              "      <td>Sunday</td>\n",
              "      <td>5-10</td>\n",
              "    </tr>\n",
              "    <tr>\n",
              "      <th>12291</th>\n",
              "      <td>cb81f16</td>\n",
              "      <td>Cairo</td>\n",
              "      <td>JAVA SE &amp; Android Trainer /Instructor</td>\n",
              "      <td>Education/Training</td>\n",
              "      <td>Education</td>\n",
              "      <td>1000</td>\n",
              "      <td>50000</td>\n",
              "      <td>2</td>\n",
              "      <td>Experienced (Non-Manager)</td>\n",
              "      <td>2015-08-27 10:08:36</td>\n",
              "      <td>1364</td>\n",
              "      <td>&lt;ul&gt;\\r\\n&lt;li&gt;Responsible for training individua...</td>\n",
              "      <td>&lt;ul&gt;\\r\\n&lt;li&gt;Have a bachelor's degree&lt;/li&gt;\\r\\n&lt;...</td>\n",
              "      <td>Per Month</td>\n",
              "      <td>Egyptian Pound</td>\n",
              "      <td>August</td>\n",
              "      <td>Thursday</td>\n",
              "      <td>5-10</td>\n",
              "    </tr>\n",
              "  </tbody>\n",
              "</table>\n",
              "</div>"
            ],
            "text/plain": [
              "             id   city  ...        day experience_range\n",
              "15815  45142a1e  Cairo  ...     Sunday          below 5\n",
              "9729   7d5476e3  Cairo  ...  Wednesday          below 5\n",
              "9398   77796efd   Giza  ...   Thursday          below 5\n",
              "33     77d749b9  Cairo  ...     Sunday             5-10\n",
              "12291   cb81f16  Cairo  ...   Thursday             5-10\n",
              "\n",
              "[5 rows x 18 columns]"
            ]
          },
          "metadata": {
            "tags": []
          },
          "execution_count": 29
        }
      ]
    },
    {
      "cell_type": "markdown",
      "metadata": {
        "id": "dyt5BxeDHx6e"
      },
      "source": [
        "##### Cleaning Job description and Job requirements columns\n",
        "\n",
        "Now these two columns contains HTML character and you will try to clean it\n",
        "by the the help of stackoverflow I found this answer [here](https://stackoverflow.com/a/925630/10708662)"
      ]
    },
    {
      "cell_type": "code",
      "metadata": {
        "id": "2KT6PXyBHzKG"
      },
      "source": [
        "from html.parser import HTMLParser\n",
        "\n",
        "class MLStripper(HTMLParser):\n",
        "    def __init__(self):\n",
        "        self.reset()\n",
        "        self.strict = False\n",
        "        self.convert_charrefs= True\n",
        "        self.fed = []\n",
        "    def handle_data(self, d):\n",
        "        self.fed.append(d)\n",
        "    def get_data(self):\n",
        "        return ''.join(self.fed).strip().replace('\\r\\n',' ').replace('\\xa0','') # more cleaning for the extra \\n\\r or \\xa0\n",
        "\n",
        "def strip_tags(html):\n",
        "    s = MLStripper()\n",
        "    s.feed(html)\n",
        "    return s.get_data()"
      ],
      "execution_count": 30,
      "outputs": []
    },
    {
      "cell_type": "code",
      "metadata": {
        "colab": {
          "base_uri": "https://localhost:8080/",
          "height": 69
        },
        "id": "pspzxY2wILpp",
        "outputId": "4915539e-12da-476e-fdaf-3cf80bd138eb"
      },
      "source": [
        "# fix the job_description \n",
        "job_posts_df.job_description = job_posts_df.job_description.apply(lambda x: strip_tags(x) if isinstance(x,str) else x)\n",
        "job_posts_df.job_description[0]"
      ],
      "execution_count": 31,
      "outputs": [
        {
          "output_type": "execute_result",
          "data": {
            "application/vnd.google.colaboratory.intrinsic+json": {
              "type": "string"
            },
            "text/plain": [
              "'Qualifications: • Graduates and Undergraduates are encouraged to apply. • Telesales experience 6 Months at least.  • Proficiency in using MS Office application ”Word, Excel” • Strong verbal communication and negotiation skills • Demonstrates a positive, enthusiastic, friendly and professional attitude  English Skills: Fluent    Job Details and Benefits: • Available Start Date: In 2 Weeks • Working Hours: 8.5 hours • Location: Maadi, Cairo  Job Package: . Basic salary 2000 EGP + Commission when Target is Acheived'"
            ]
          },
          "metadata": {
            "tags": []
          },
          "execution_count": 31
        }
      ]
    },
    {
      "cell_type": "code",
      "metadata": {
        "colab": {
          "base_uri": "https://localhost:8080/",
          "height": 69
        },
        "id": "fX8oD4cbINNX",
        "outputId": "b185b1e6-8ee7-483b-db41-9a5d61547146"
      },
      "source": [
        "# fix the job_requirements type(x) == str\n",
        "job_posts_df.job_requirements = job_posts_df.job_requirements.apply(lambda x: strip_tags(x) if isinstance(x,str) else x)\n",
        "job_posts_df.job_description[0]"
      ],
      "execution_count": 32,
      "outputs": [
        {
          "output_type": "execute_result",
          "data": {
            "application/vnd.google.colaboratory.intrinsic+json": {
              "type": "string"
            },
            "text/plain": [
              "'Qualifications: • Graduates and Undergraduates are encouraged to apply. • Telesales experience 6 Months at least.  • Proficiency in using MS Office application ”Word, Excel” • Strong verbal communication and negotiation skills • Demonstrates a positive, enthusiastic, friendly and professional attitude  English Skills: Fluent    Job Details and Benefits: • Available Start Date: In 2 Weeks • Working Hours: 8.5 hours • Location: Maadi, Cairo  Job Package: . Basic salary 2000 EGP + Commission when Target is Acheived'"
            ]
          },
          "metadata": {
            "tags": []
          },
          "execution_count": 32
        }
      ]
    },
    {
      "cell_type": "code",
      "metadata": {
        "colab": {
          "base_uri": "https://localhost:8080/",
          "height": 197
        },
        "id": "XpPKWGXqIXsC",
        "outputId": "289550f7-2388-4973-f2bc-f7b69a89a1f8"
      },
      "source": [
        "# check for our work\n",
        "job_posts_df.sample(5,random_state=1)[['job_description','job_requirements']]"
      ],
      "execution_count": 33,
      "outputs": [
        {
          "output_type": "execute_result",
          "data": {
            "text/html": [
              "<div>\n",
              "<style scoped>\n",
              "    .dataframe tbody tr th:only-of-type {\n",
              "        vertical-align: middle;\n",
              "    }\n",
              "\n",
              "    .dataframe tbody tr th {\n",
              "        vertical-align: top;\n",
              "    }\n",
              "\n",
              "    .dataframe thead th {\n",
              "        text-align: right;\n",
              "    }\n",
              "</style>\n",
              "<table border=\"1\" class=\"dataframe\">\n",
              "  <thead>\n",
              "    <tr style=\"text-align: right;\">\n",
              "      <th></th>\n",
              "      <th>job_description</th>\n",
              "      <th>job_requirements</th>\n",
              "    </tr>\n",
              "  </thead>\n",
              "  <tbody>\n",
              "    <tr>\n",
              "      <th>15815</th>\n",
              "      <td>About the Job and Duties :  Telemarketing\\Tele...</td>\n",
              "      <td>Bachelor Degree: Commerce or equivalent Experi...</td>\n",
              "    </tr>\n",
              "    <tr>\n",
              "      <th>9729</th>\n",
              "      <td>Handle German Customers inquires and complaint...</td>\n",
              "      <td>Fluent German Excellent communication &amp; proble...</td>\n",
              "    </tr>\n",
              "    <tr>\n",
              "      <th>9398</th>\n",
              "      <td>Advises present or prospective customers by an...</td>\n",
              "      <td>1 years’ experience in the telesales / telemar...</td>\n",
              "    </tr>\n",
              "    <tr>\n",
              "      <th>33</th>\n",
              "      <td>Desired Experience  PHP Development Experience...</td>\n",
              "      <td>1. Solid commercial knowledge of PHP, XHTML, C...</td>\n",
              "    </tr>\n",
              "    <tr>\n",
              "      <th>12291</th>\n",
              "      <td>Responsible for training individuals. Develop ...</td>\n",
              "      <td>Have a bachelor's degree Very good English lan...</td>\n",
              "    </tr>\n",
              "  </tbody>\n",
              "</table>\n",
              "</div>"
            ],
            "text/plain": [
              "                                         job_description                                   job_requirements\n",
              "15815  About the Job and Duties :  Telemarketing\\Tele...  Bachelor Degree: Commerce or equivalent Experi...\n",
              "9729   Handle German Customers inquires and complaint...  Fluent German Excellent communication & proble...\n",
              "9398   Advises present or prospective customers by an...  1 years’ experience in the telesales / telemar...\n",
              "33     Desired Experience  PHP Development Experience...  1. Solid commercial knowledge of PHP, XHTML, C...\n",
              "12291  Responsible for training individuals. Develop ...  Have a bachelor's degree Very good English lan..."
            ]
          },
          "metadata": {
            "tags": []
          },
          "execution_count": 33
        }
      ]
    },
    {
      "cell_type": "markdown",
      "metadata": {
        "id": "EhDbZnDEJImR"
      },
      "source": [
        "##### Clean city column\n",
        "> - contains misspelled cities names.\n",
        "- Could be more elegant if grouped as Cairo, Alexandria , Delta , upper Egypt and all over country"
      ]
    },
    {
      "cell_type": "code",
      "metadata": {
        "colab": {
          "base_uri": "https://localhost:8080/"
        },
        "id": "3l6bI85aI4Y6",
        "outputId": "d791bfff-ac8d-4f74-aa54-b30fac5f6e93"
      },
      "source": [
        "# check for the number of unique records\n",
        "job_posts_df.city.nunique()"
      ],
      "execution_count": 34,
      "outputs": [
        {
          "output_type": "execute_result",
          "data": {
            "text/plain": [
              "478"
            ]
          },
          "metadata": {
            "tags": []
          },
          "execution_count": 34
        }
      ]
    },
    {
      "cell_type": "code",
      "metadata": {
        "id": "NYm8hy54I9Go"
      },
      "source": [
        "# defining a function for stripping city names\n",
        "def strip_city_name(x):\n",
        "    if x[-1] ==',':\n",
        "        x = x[:-1]\n",
        "    return x.lower().replace('- ',',').replace('&',',').replace('/',',').replace('.','').replace(', ',',').replace(' ,',',').replace(' and ',',').replace('el ','').replace('el-','').strip()\n",
        "\n",
        "## Applying the function\n",
        "job_posts_df['city_clean'] = job_posts_df.city.apply(lambda x : strip_city_name(x))   "
      ],
      "execution_count": 35,
      "outputs": []
    },
    {
      "cell_type": "code",
      "metadata": {
        "id": "jwm1TOnYJ964"
      },
      "source": [
        "# this part is hard coded however it may be done other way using 'Fuzzy Lookup'\n",
        "# collect the words relative for each group\n",
        "\n",
        "# abroad  in relative to Egypt\n",
        "abroad = ['SHARJAH','Riyadh', 'travel jeddah' ,'الرياض', 'ابها', 'Riyadh, Saudi Arabia' ,'Riyadh, KSA','Dubai','Middle East','Global']\n",
        "\n",
        "\n",
        "# remote work either online or from home\n",
        "remote = ['Remote (Work from Home)','Remote','Remotely from home',  'manalonline' ,'Online From Home', 'Work from home']\n",
        "\n",
        "\n",
        "# unspecified job posts\n",
        "unknwon =['To be definied','outside cairo']\n",
        "\n",
        "\n",
        "# west of Egypt\n",
        "west_region =['North Coast','North Cost','Marsa Matrouh','Alamein','North Cost']\n",
        "\n",
        "\n",
        "# Upper Eegypt and Red Sea areas\n",
        "upper_redsea_regions =['Hurghada','ASWAN','Marsa Alam','qina','El Fayoum','Bani Suief','El Menya', \n",
        "                       'red sea','Sohag','el minya','Aswan/ Qena','Minya - Assiut - Sohag',\n",
        "                       'Assuit-Menia-Mansoura-El Bhira-Sohag','Upper Egypt & Red Sea','Upper Egypt / Red Sea',\n",
        "                       'Upper Egypt','الغردقة','Minia','Qena','ain sokhna','Red Sea/ Sinai',\n",
        "                       'Elwadi Elgded','Owainat East','east oweinat','East Owinat','East Owainat','Owinat East',\n",
        "                       'Asyut','Ein sokhna','al fayoum','El Menia','luxor','al-minya','Ain El Sokhna','sharm elsheikh',\n",
        "                       'EL Minia','al ain al sokhna', 'Minya','Wadi El Notron','new valley','Assuit',\n",
        "                       'Assiut','fayoum']\n",
        "\n",
        "\n",
        "# sinai area\n",
        "sinai_region =['Sharm Elkheikh','sinai','South sinai','sharm el shaik','Ariesh','Arish']\n",
        "\n",
        "\n",
        "# Cario districts\n",
        "cairo_regions =['kairo','great cairo','maadi','maadi,cairo','Maddi','nasr city' ,'Doki','Mohand','El Mohndseen','Ain Shams',\n",
        "                'Dokki - Mohandseen','Mohandeseen','Heliopolis','obour' ,'Obour city','nozha' ,\"Ma'adi\", 'Obour','zamalek',\n",
        "                'Abou Rawash','Misr- El Gedida','Helwan','5th Settelment','maady','El-Obour','elobour','EL Obour city',\n",
        "                'elharam','new nozha','Dokki' ,'Ain Shams/ Helwan' , 'El Obour' , 'Mohandessin','Mokattam','alabassia',\n",
        "                'Mohandiseen','Badr','حلوان','zahraa el maadi','التجمع الأول', 'Haram','Obuor city', 'El-shrouk','مدينة بدر',\n",
        "                'new egypt','El Obour Industrial City','مدينه نصر', 'newegypt','15th of May','El-Sherouk'] \n"
      ],
      "execution_count": 36,
      "outputs": []
    },
    {
      "cell_type": "code",
      "metadata": {
        "id": "AmlZjgsOKn8c"
      },
      "source": [
        "def city_cleaner(k):\n",
        "    \"take k city name as a str and edit it to be as one of the unified categries of Areas as above mentioned lists \"\n",
        "    if k[0] =='c' or k[0] == 'C' and 'Canal' not in k or 'Cairo' in k or 'القاهر' in k or 'Down Town' in k or k in cairo_regions:\n",
        "        k = 'Cairo'\n",
        "    elif 'Alex' in k or 'alex' in k or 'الاسكندرية' in k:\n",
        "        k ='Alexandria'\n",
        "    elif '6' in k or 'October' in k or 'أكتوبر' in k or 'sheikh zayed' in k or 'Shiekh' in k or 'Sheikh' in k:\n",
        "        k = 'October'\n",
        "    elif 'G' in k and 'iza' in k or 'g' in k and 'iza' in k or 'الجيز' in k or k == 'Giaz' or 'GIZA' in k or 'Jizah' in k or k == 'gize':\n",
        "        k = 'Giza'\n",
        "    elif '10' in k :\n",
        "        k = '10th Ramadan'\n",
        "    elif 'All ' in k or 'all ' in k or 'Any ' in k or k == 'مصر' or k == 'all' or k =='Egype' or k =='Egypt' or 'anywhere' in k or 'al city' in k or 'Any' in k:\n",
        "        k = 'All country'\n",
        "    elif 'Isma' in k or 'Isam' in k or 'Port' in k or 'port' in k or 'Sue' in k or 'الإسماعيلية' in k or 'siuz' in k or 'Canal' in k:\n",
        "        k = 'Canal'\n",
        "    elif k in sinai_region:\n",
        "        k = 'Sinai'\n",
        "    elif k in west_region:\n",
        "        k = 'West'\n",
        "    elif k in upper_redsea_regions:\n",
        "        k = 'Upper Egypt & Red Sea'\n",
        "    elif k in abroad:\n",
        "        k = 'Abroad'\n",
        "    elif k in remote:\n",
        "        k = 'Remotely'\n",
        "    elif k in unknwon:\n",
        "        k = 'other'\n",
        "    else:\n",
        "        k = 'Delta'\n",
        "    return k"
      ],
      "execution_count": 37,
      "outputs": []
    },
    {
      "cell_type": "code",
      "metadata": {
        "colab": {
          "base_uri": "https://localhost:8080/",
          "height": 436
        },
        "id": "BmQ9md1IL3tA",
        "outputId": "30d08d74-f70f-4312-ea15-5cbfd1f2594c"
      },
      "source": [
        "# fix the city column\n",
        "job_posts_df.city_clean = job_posts_df.city_clean.apply(lambda x: city_cleaner(x))\n",
        "\n",
        "# compare our results\n",
        "display(job_posts_df.sample(5,random_state =7)[['city','city_clean']])\n",
        "\n",
        "# check for the work\n",
        "display(job_posts_df.city_clean.value_counts())"
      ],
      "execution_count": 38,
      "outputs": [
        {
          "output_type": "display_data",
          "data": {
            "text/html": [
              "<div>\n",
              "<style scoped>\n",
              "    .dataframe tbody tr th:only-of-type {\n",
              "        vertical-align: middle;\n",
              "    }\n",
              "\n",
              "    .dataframe tbody tr th {\n",
              "        vertical-align: top;\n",
              "    }\n",
              "\n",
              "    .dataframe thead th {\n",
              "        text-align: right;\n",
              "    }\n",
              "</style>\n",
              "<table border=\"1\" class=\"dataframe\">\n",
              "  <thead>\n",
              "    <tr style=\"text-align: right;\">\n",
              "      <th></th>\n",
              "      <th>city</th>\n",
              "      <th>city_clean</th>\n",
              "    </tr>\n",
              "  </thead>\n",
              "  <tbody>\n",
              "    <tr>\n",
              "      <th>2182</th>\n",
              "      <td>Cairo</td>\n",
              "      <td>Cairo</td>\n",
              "    </tr>\n",
              "    <tr>\n",
              "      <th>1071</th>\n",
              "      <td>6th of October</td>\n",
              "      <td>October</td>\n",
              "    </tr>\n",
              "    <tr>\n",
              "      <th>6925</th>\n",
              "      <td>Tanta - Zagazig - Mansoura (Delta)</td>\n",
              "      <td>Delta</td>\n",
              "    </tr>\n",
              "    <tr>\n",
              "      <th>17673</th>\n",
              "      <td>Cairo</td>\n",
              "      <td>Cairo</td>\n",
              "    </tr>\n",
              "    <tr>\n",
              "      <th>13141</th>\n",
              "      <td>Cairo</td>\n",
              "      <td>Cairo</td>\n",
              "    </tr>\n",
              "  </tbody>\n",
              "</table>\n",
              "</div>"
            ],
            "text/plain": [
              "                                     city city_clean\n",
              "2182                                Cairo      Cairo\n",
              "1071                       6th of October    October\n",
              "6925   Tanta - Zagazig - Mansoura (Delta)      Delta\n",
              "17673                               Cairo      Cairo\n",
              "13141                               Cairo      Cairo"
            ]
          },
          "metadata": {
            "tags": []
          }
        },
        {
          "output_type": "display_data",
          "data": {
            "text/plain": [
              "Cairo                    15382\n",
              "Giza                      3996\n",
              "Alexandria                1084\n",
              "Delta                      879\n",
              "October                    228\n",
              "10th Ramadan               156\n",
              "All country                 62\n",
              "Upper Egypt & Red Sea       32\n",
              "Canal                       25\n",
              "Sinai                        2\n",
              "Abroad                       2\n",
              "other                        1\n",
              "Remotely                     1\n",
              "Name: city_clean, dtype: int64"
            ]
          },
          "metadata": {
            "tags": []
          }
        }
      ]
    },
    {
      "cell_type": "markdown",
      "metadata": {
        "id": "uKeEfAxH3PY8"
      },
      "source": [
        "#####fix the career level column"
      ]
    },
    {
      "cell_type": "code",
      "metadata": {
        "id": "vmtULUe03PY8",
        "colab": {
          "base_uri": "https://localhost:8080/"
        },
        "outputId": "74748e07-d3f8-4345-de82-f14714d280dc"
      },
      "source": [
        "# viewing unique values\n",
        "job_posts_df.career_level.unique()"
      ],
      "execution_count": 39,
      "outputs": [
        {
          "output_type": "execute_result",
          "data": {
            "text/plain": [
              "array(['Entry Level', 'Experienced (Non-Manager)', 'Manager',\n",
              "       'Senior Management (e.g. VP, CEO)', 'Student'], dtype=object)"
            ]
          },
          "metadata": {
            "tags": []
          },
          "execution_count": 39
        }
      ]
    },
    {
      "cell_type": "code",
      "metadata": {
        "id": "XUZaoHXr3PY8",
        "colab": {
          "base_uri": "https://localhost:8080/"
        },
        "outputId": "8fe4e587-4f8a-4fbf-ea01-43bc21364ea5"
      },
      "source": [
        "# fix the career_level\n",
        "job_posts_df['career_level'] = job_posts_df['career_level'].apply(lambda x: x.split('(')[0])\n",
        "\n",
        "# check\n",
        "job_posts_df.career_level.unique()"
      ],
      "execution_count": 40,
      "outputs": [
        {
          "output_type": "execute_result",
          "data": {
            "text/plain": [
              "array(['Entry Level', 'Experienced ', 'Manager', 'Senior Management ',\n",
              "       'Student'], dtype=object)"
            ]
          },
          "metadata": {
            "tags": []
          },
          "execution_count": 40
        }
      ]
    },
    {
      "cell_type": "markdown",
      "metadata": {
        "id": "NG3_EyQQQDgw"
      },
      "source": [
        "##### Saving the cleaned data for further analysis"
      ]
    },
    {
      "cell_type": "code",
      "metadata": {
        "id": "SYGmwZFqQJ2q"
      },
      "source": [
        "# save into csv \n",
        "applications_df.to_csv('clean_applications.csv', index=False)\n",
        "job_posts_df.to_csv('clean_job_posts.csv', index=False)"
      ],
      "execution_count": null,
      "outputs": []
    }
  ]
}